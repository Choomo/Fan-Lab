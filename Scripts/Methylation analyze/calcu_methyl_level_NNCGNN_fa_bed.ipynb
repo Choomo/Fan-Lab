{
 "cells": [
  {
   "cell_type": "code",
   "execution_count": 15,
   "metadata": {},
   "outputs": [],
   "source": [
    "#Usage python calcu_methyl_level_NNCGNN_fa_bed.py inputfile outputfile\n",
    "\n",
    "import pandas as pd\n",
    "import numpy as np\n",
    "import sys\n",
    "\n",
    "input_file = sys.argv[1]\n",
    "output_file = sys.argv[2]\n",
    "\n",
    "df = pd.read_csv(input_file, sep=\"\\t\", names=[\"chr\", \"start\", \"end\", \"index\", \"methy_level\", \"strand\", \"CG_type\"])\n",
    "df['CG_type'] = df[\"CG_type\"].str.upper()\n",
    "df = df.loc[:, ['CG_type', 'methy_level']]\n",
    "df_mean = df.groupby(\"CG_type\").mean()\n",
    "CG_type_counts = df.groupby(\"CG_type\").size()\n",
    "df_n = pd.concat([df_mean, CG_type_counts], axis =1)\n",
    "df_n.to_csv(output_file, sep=\"\\t\", header=None)"
   ]
  }
 ],
 "metadata": {
  "kernelspec": {
   "display_name": "Python 3.9.7 ('base')",
   "language": "python",
   "name": "python3"
  },
  "language_info": {
   "codemirror_mode": {
    "name": "ipython",
    "version": 3
   },
   "file_extension": ".py",
   "mimetype": "text/x-python",
   "name": "python",
   "nbconvert_exporter": "python",
   "pygments_lexer": "ipython3",
   "version": "3.9.7"
  },
  "orig_nbformat": 4,
  "vscode": {
   "interpreter": {
    "hash": "88279d2366fe020547cde40dd65aa0e3aa662a6ec1f3ca12d88834876c85e1a6"
   }
  }
 },
 "nbformat": 4,
 "nbformat_minor": 2
}
