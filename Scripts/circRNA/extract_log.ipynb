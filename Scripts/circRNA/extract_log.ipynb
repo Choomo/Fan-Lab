{
 "cells": [
  {
   "cell_type": "code",
   "execution_count": 12,
   "metadata": {},
   "outputs": [
    {
     "data": {
      "text/plain": [
       "['0.00160213960674285',\n",
       " '0.00139498355571592',\n",
       " '0.000697339161127104',\n",
       " '0.00151954253686824',\n",
       " '0.00140708446128965',\n",
       " '0.000998748890121615',\n",
       " '0.0108252959473672',\n",
       " '0.0123900447721886',\n",
       " '0.00668872195137109',\n",
       " '0.00639575850863691',\n",
       " '0.00801505696362179',\n",
       " '0.010627381762916',\n",
       " '0.0097727118060019',\n",
       " '0.0115485682390472',\n",
       " '0.00742937837852433',\n",
       " '0.00770019030888596',\n",
       " '0.00712685682159579',\n",
       " '0.00830285969402535',\n",
       " '0.00970873786407767',\n",
       " '0',\n",
       " '0',\n",
       " '0.00537634408602151',\n",
       " '0.00956937799043062',\n",
       " '0.0099009900990099',\n",
       " '0.0510236378841289',\n",
       " '0.100128050383444',\n",
       " '0.0227691429350512',\n",
       " '0.0462087563065705',\n",
       " '0.0346348642045038',\n",
       " '0.0416386034736794',\n",
       " '0.00374096502410021',\n",
       " '0.00354975580622597',\n",
       " '0.00183531929022024',\n",
       " '0.00353031588722202',\n",
       " '0.00270459862211882',\n",
       " '0.0021757390055185',\n",
       " '0.0098275101901257',\n",
       " '0.011270070948469',\n",
       " '0.00614625902064088',\n",
       " '0.00571234717323256',\n",
       " '0.00524159662411273',\n",
       " '0.00531348626878327',\n",
       " '0.00247729149463253',\n",
       " '0.00213219616204691',\n",
       " '0.00522193211488251',\n",
       " '0.00443655723158829',\n",
       " '0.00425531914893617',\n",
       " '0.00514705882352941']"
      ]
     },
     "execution_count": 12,
     "metadata": {},
     "output_type": "execute_result"
    }
   ],
   "source": [
    "with open(\"calc_ROI.e4955153\", \"r\") as rfile:\n",
    "    maintain_ratio = []\n",
    "    deno_vo_ratio = []\n",
    "    for i in rfile:\n",
    "        i = i.strip()\n",
    "        if i.startswith(\"The overall maintenance ratio is:\"):\n",
    "            maintain_ratio.append(i.split(\"\\t\")[1])\n",
    "        elif i.startswith(\"The overall de novo methylation ratio is:\"):\n",
    "            deno_vo_ratio.append(i.split(\"\\t\")[1][:-1])\n",
    "\n",
    "with open(\"test.txt\", \"w\") as wfile:\n",
    "    for i in range(1,len(maintain_ratio)):\n",
    "        "
   ]
  }
 ],
 "metadata": {
  "kernelspec": {
   "display_name": "Python 3.9.7 ('base')",
   "language": "python",
   "name": "python3"
  },
  "language_info": {
   "codemirror_mode": {
    "name": "ipython",
    "version": 3
   },
   "file_extension": ".py",
   "mimetype": "text/x-python",
   "name": "python",
   "nbconvert_exporter": "python",
   "pygments_lexer": "ipython3",
   "version": "3.9.7"
  },
  "orig_nbformat": 4,
  "vscode": {
   "interpreter": {
    "hash": "88279d2366fe020547cde40dd65aa0e3aa662a6ec1f3ca12d88834876c85e1a6"
   }
  }
 },
 "nbformat": 4,
 "nbformat_minor": 2
}
