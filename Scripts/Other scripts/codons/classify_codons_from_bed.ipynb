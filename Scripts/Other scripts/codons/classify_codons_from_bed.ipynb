{
 "cells": [
  {
   "cell_type": "code",
   "execution_count": null,
   "metadata": {},
   "outputs": [],
   "source": [
    "# 定义密码子表\n",
    "codon_table = {\n",
    "    \"UUU\": \"F\",\n",
    "    \"UUC\": \"F\",\n",
    "    \"UUA\": \"L\",\n",
    "    \"UUG\": \"L\",\n",
    "    \"CUU\": \"L\",\n",
    "    \"CUC\": \"L\",\n",
    "    \"CUA\": \"L\",\n",
    "    \"CUG\": \"L\",\n",
    "    \"AUU\": \"I\",\n",
    "    \"AUC\": \"I\",\n",
    "    \"AUA\": \"I\",\n",
    "    \"AUG\": \"M\",\n",
    "    \"GUU\": \"V\",\n",
    "    \"GUC\": \"V\",\n",
    "    \"GUA\": \"V\",\n",
    "    \"GUG\": \"V\",\n",
    "    \"UCU\": \"S\",\n",
    "    \"UCC\": \"S\",\n",
    "    \"UCA\": \"S\",\n",
    "    \"UCG\": \"S\",\n",
    "    \"CCU\": \"P\",\n",
    "    \"CCC\": \"P\",\n",
    "    \"CCA\": \"P\",\n",
    "    \"CCG\": \"P\",\n",
    "    \"ACU\": \"T\",\n",
    "    \"ACC\": \"T\",\n",
    "    \"ACA\": \"T\",\n",
    "    \"ACG\": \"T\",\n",
    "    \"GCU\": \"A\",\n",
    "    \"GCC\": \"A\",\n",
    "    \"GCA\": \"A\",\n",
    "    \"GCG\": \"A\",\n",
    "    \"UAU\": \"Y\",\n",
    "    \"UAC\": \"Y\",\n",
    "    \"UAA\": \"*\",\n",
    "    \"UAG\": \"*\",\n",
    "    \"CAU\": \"H\",\n",
    "    \"CAC\": \"H\",\n",
    "    \"CAA\": \"Q\",\n",
    "    \"CAG\": \"Q\",\n",
    "    \"AAU\": \"N\",\n",
    "    \"AAC\": \"N\",\n",
    "    \"AAA\": \"K\",\n",
    "    \"AAG\": \"K\",\n",
    "    \"GAU\": \"D\",\n",
    "    \"GAC\": \"D\",\n",
    "    \"GAA\": \"E\",\n",
    "    \"GAG\": \"E\",\n",
    "    \"UGU\": \"C\",\n",
    "    \"UGC\": \"C\",\n",
    "    \"UGA\": \"*\",\n",
    "    \"UGG\": \"W\",\n",
    "    \"CGU\": \"R\",\n",
    "    \"CGC\": \"R\",\n",
    "    \"CGA\": \"R\",\n",
    "    \"CGG\": \"R\",\n",
    "    \"AGU\": \"S\",\n",
    "    \"AGC\": \"S\",\n",
    "    \"AGA\": \"R\",\n",
    "    \"AGG\": \"R\",\n",
    "    \"GGU\": \"G\",\n",
    "    \"GGC\": \"G\",\n",
    "    \"GGA\": \"G\",\n",
    "    \"GGG\": \"G\"\n",
    "}\n",
    "\n",
    "def classify_codons(dna):\n",
    "    # 确保DNA序列长度是3的倍数\n",
    "    if len(dna) % 3 != 0:\n",
    "        return \"Invalid DNA sequence length. It must be a multiple of 3.\"\n",
    "    \n",
    "    # 将DNA序列分割为密码子\n",
    "    codons = [dna[i:i+3] for i in range(0, len(dna), 3)]\n",
    "    \n",
    "    # 分类密码子\n",
    "    amino_acids = []\n",
    "    for codon in codons:\n",
    "        if codon in codon_table:\n",
    "            amino_acids.append(codon_table[codon])\n",
    "        else:\n",
    "            amino_acids.append(\"X\")\n",
    "    \n",
    "    return amino_acids\n",
    "\n",
    "\n"
   ]
  },
  {
   "cell_type": "code",
   "execution_count": 12,
   "metadata": {},
   "outputs": [
    {
     "data": {
      "text/plain": [
       "'ENSP00000409316.1|ENST00000426406.4|ENSG00000284733.2|OTTHUMG00000002860.3|OTTHUMT00000007999.3|OR4F29-201|OR4F29|312'"
      ]
     },
     "execution_count": 12,
     "metadata": {},
     "output_type": "execute_result"
    }
   ],
   "source": [
    "from Bio import SeqIO\n",
    "\n",
    "aa_fa_file = \"D:/Fan_Lab/Research-data/Genome_rf/Genecode/gencode.v44.pc_translations.fa\"\n",
    "aa_fasta = [fa for fa in SeqIO.parse(aa_fa_file,  \"fasta\")]\n",
    "aa_fasta[1].id\n",
    "\n"
   ]
  },
  {
   "cell_type": "code",
   "execution_count": null,
   "metadata": {},
   "outputs": [],
   "source": [
    "# 测试\n",
    "dna = \"AUGGCCAUGGCGCCCAG\"\n",
    "result = classify_codons(dna)"
   ]
  }
 ],
 "metadata": {
  "kernelspec": {
   "display_name": "Python 3.12.3 ('biopython')",
   "language": "python",
   "name": "python3"
  },
  "language_info": {
   "codemirror_mode": {
    "name": "ipython",
    "version": 3
   },
   "file_extension": ".py",
   "mimetype": "text/x-python",
   "name": "python",
   "nbconvert_exporter": "python",
   "pygments_lexer": "ipython3",
   "version": "3.12.3"
  },
  "orig_nbformat": 4,
  "vscode": {
   "interpreter": {
    "hash": "2cf7b0ac8c35998427398b99e9c552cf38d8328b4c6a0790756894bb0c5f87ed"
   }
  }
 },
 "nbformat": 4,
 "nbformat_minor": 2
}
