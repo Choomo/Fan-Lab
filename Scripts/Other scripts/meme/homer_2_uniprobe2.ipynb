{
 "cells": [
  {
   "cell_type": "code",
   "execution_count": null,
   "metadata": {},
   "outputs": [],
   "source": [
    "import os\n",
    "import sys\n",
    "import pandas as pd\n",
    "import io\n",
    "\n",
    "in_file = sys.argv[1]\n",
    "out_file = sys.argv[2]\n",
    "\n",
    "### Read file in and save as dict\n",
    "with open(in_file, \"r\") as in_file:\n",
    "    mt_dict = {}\n",
    "    for line in in_file:\n",
    "        line_list = line.split(sep=\"\\t\")\n",
    "        if line[0].startswith('>'):\n",
    "            seq_name = line_list[1]\n",
    "            mt_dict[seq_name] = ''\n",
    "        else:\n",
    "            mt_dict[seq_name] += line"
   ]
  },
  {
   "cell_type": "code",
   "execution_count": null,
   "metadata": {},
   "outputs": [],
   "source": [
    "##########output transformed matrix\n",
    "with open(out_file, \"w\") as w_file:\n",
    "    for seq_name in mt_dict:\n",
    "        data = pd.read_csv(io.StringIO(mt_dict[seq_name]), lineterminator='\\n', sep='\\t', header=None).T\n",
    "        data.insert(loc=0, column=\"str\", value=[\"A:\", \"C:\", \"G:\", \"T:\"])\n",
    "        data = data.to_string(header=None, index=None)\n",
    "        data = data.strip()\n",
    "        data = data.replace(\" \", \"\\t\")\n",
    "        data = data.replace(\"\\n\\t\", \"\\n\")\n",
    "        w_file.write(f'{seq_name}\\n{data}\\n')"
   ]
  }
 ],
 "metadata": {
  "kernelspec": {
   "display_name": "Python 3.9.7 ('base')",
   "language": "python",
   "name": "python3"
  },
  "language_info": {
   "name": "python",
   "version": "3.9.7"
  },
  "orig_nbformat": 4,
  "vscode": {
   "interpreter": {
    "hash": "88279d2366fe020547cde40dd65aa0e3aa662a6ec1f3ca12d88834876c85e1a6"
   }
  }
 },
 "nbformat": 4,
 "nbformat_minor": 2
}
